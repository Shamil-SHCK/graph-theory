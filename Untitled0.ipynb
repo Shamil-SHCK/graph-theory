{
  "nbformat": 4,
  "nbformat_minor": 0,
  "metadata": {
    "colab": {
      "provenance": [],
      "toc_visible": true,
      "authorship_tag": "ABX9TyNqok+qlpB6kHG4DcxjVJxG",
      "include_colab_link": true
    },
    "kernelspec": {
      "name": "python3",
      "display_name": "Python 3"
    },
    "language_info": {
      "name": "python"
    }
  },
  "cells": [
    {
      "cell_type": "markdown",
      "metadata": {
        "id": "view-in-github",
        "colab_type": "text"
      },
      "source": [
        "<a href=\"https://colab.research.google.com/github/Shamil-SHCK/graph-theory/blob/master/Untitled0.ipynb\" target=\"_parent\"><img src=\"https://colab.research.google.com/assets/colab-badge.svg\" alt=\"Open In Colab\"/></a>"
      ]
    },
    {
      "cell_type": "code",
      "source": [
        "!git clone https://github.com/Shamil-SHCK/graph-theory.git\n"
      ],
      "metadata": {
        "colab": {
          "base_uri": "https://localhost:8080/"
        },
        "id": "14diIQLIXH2M",
        "outputId": "405ae672-6d2b-4626-a378-be7ea84e9d24"
      },
      "execution_count": null,
      "outputs": [
        {
          "output_type": "stream",
          "name": "stdout",
          "text": [
            "Cloning into 'graph-theory'...\n",
            "remote: Enumerating objects: 3, done.\u001b[K\n",
            "remote: Counting objects: 100% (3/3), done.\u001b[K\n",
            "remote: Compressing objects: 100% (3/3), done.\u001b[K\n",
            "remote: Total 3 (delta 0), reused 3 (delta 0), pack-reused 0 (from 0)\u001b[K\n",
            "Receiving objects: 100% (3/3), done.\n"
          ]
        }
      ]
    },
    {
      "cell_type": "code",
      "execution_count": null,
      "metadata": {
        "colab": {
          "base_uri": "https://localhost:8080/"
        },
        "id": "52Go4JF0XFYa",
        "outputId": "a2b66efb-d282-46c8-cce9-a15366a82c38"
      },
      "outputs": [
        {
          "output_type": "stream",
          "name": "stdout",
          "text": [
            "+---------------------------+--------------+----------------+\n",
            "| Graph                     |   Original χ |   Subdivided χ |\n",
            "+===========================+==============+================+\n",
            "| Graph 1 (Empty E3)        |            1 |              1 |\n",
            "+---------------------------+--------------+----------------+\n",
            "| Graph 2 (Path P3)         |            2 |              2 |\n",
            "+---------------------------+--------------+----------------+\n",
            "| Graph 3 (Complete K3)     |            3 |              2 |\n",
            "+---------------------------+--------------+----------------+\n",
            "| Graph 4 (Star S4)         |            2 |              2 |\n",
            "+---------------------------+--------------+----------------+\n",
            "| Graph 5 (Cycle C4)        |            2 |              2 |\n",
            "+---------------------------+--------------+----------------+\n",
            "| Graph 6 (Complete K4)     |            4 |              2 |\n",
            "+---------------------------+--------------+----------------+\n",
            "| Graph 7 (Wheel W4)        |            3 |              2 |\n",
            "+---------------------------+--------------+----------------+\n",
            "| Graph 8 (Bipartite K2,2)  |            2 |              2 |\n",
            "+---------------------------+--------------+----------------+\n",
            "| Graph 9 (Binary Tree)     |            2 |              2 |\n",
            "+---------------------------+--------------+----------------+\n",
            "| Graph 10 (Cube Q3)        |            2 |              2 |\n",
            "+---------------------------+--------------+----------------+\n",
            "| Graph 11 (Petersen)       |            3 |              2 |\n",
            "+---------------------------+--------------+----------------+\n",
            "| Graph 12 (Diamond)        |            3 |              2 |\n",
            "+---------------------------+--------------+----------------+\n",
            "| Graph 13 (5-cycle)        |            3 |              2 |\n",
            "+---------------------------+--------------+----------------+\n",
            "| Graph 14 (Bipartite K2,3) |            2 |              2 |\n",
            "+---------------------------+--------------+----------------+\n",
            "| Graph 15 (Friendship)     |            3 |              2 |\n",
            "+---------------------------+--------------+----------------+\n",
            "Figure(1200x600)\n"
          ]
        }
      ],
      "source": [
        "!python /content/graph-theory/1-subdivision_for_graph.py\n"
      ]
    },
    {
      "cell_type": "code",
      "source": [
        "from google.colab import drive\n",
        "drive.mount('/content/drive')"
      ],
      "metadata": {
        "id": "RGi6tsalajv7"
      },
      "execution_count": null,
      "outputs": []
    }
  ]
}